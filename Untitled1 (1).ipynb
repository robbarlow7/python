{
 "cells": [
  {
   "cell_type": "code",
   "execution_count": 155,
   "id": "78448366-b8d3-44b7-a911-ff3240926fce",
   "metadata": {
    "tags": []
   },
   "outputs": [],
   "source": [
    "import numpy as np\n",
    "import matplotlib.pyplot as plt"
   ]
  },
  {
   "cell_type": "code",
   "execution_count": 184,
   "id": "29c72954-c9f0-4910-a6a8-c66da6b8b6f6",
   "metadata": {
    "tags": []
   },
   "outputs": [
    {
     "name": "stdout",
     "output_type": "stream",
     "text": [
      "3\n",
      "4\n",
      "7\n",
      "1\n",
      "8\n",
      "9\n",
      "7\n",
      "6\n",
      "3\n",
      "9\n",
      "2\n",
      "1\n",
      "the length of the bracelet is: 12\n"
     ]
    }
   ],
   "source": [
    "n = 62\n",
    "ans = np.zeros(n, int)\n",
    "def bracelet(ans):\n",
    "    for i in range(n):\n",
    "        ans[i+2] = ans[i+1] + ans[i]\n",
    "        ans[i+2] = ans[i+2] % 10\n",
    "        print(ans[i])\n",
    "        if (ans[i+1] == ans[0] and ans[i+2] == ans[1]):\n",
    "            print('the length of the bracelet is:', i+1)\n",
    "            break\n",
    "def twonumb(x, y):\n",
    "    ans[0] = x\n",
    "    ans[1] = y\n",
    "    return bracelet(ans)\n",
    "\n",
    "twonumb(3,4)"
   ]
  },
  {
   "cell_type": "code",
   "execution_count": 182,
   "id": "0e1b752c-0c1d-47f7-9bd0-e7824a5a4327",
   "metadata": {
    "tags": []
   },
   "outputs": [
    {
     "name": "stdout",
     "output_type": "stream",
     "text": [
      "there are 1 bracelets of length 1 , the consecutive numbers to make this are 0 0\n",
      "there are 3 bracelets of length 3 , the consecutive numbers to make this are 5 5\n",
      "there are 4 bracelets of length 4 , the consecutive numbers to make this are 8 4\n",
      "there are 12 bracelets of length 12 , the consecutive numbers to make this are 9 7\n",
      "there are 20 bracelets of length 20 , the consecutive numbers to make this are 8 8\n",
      "there are 60 bracelets of length 60 , the consecutive numbers to make this are 9 9\n"
     ]
    }
   ],
   "source": [
    "ans = np.zeros(64, int)\n",
    "count=np.zeros(100,int)\n",
    "nums = np.zeros([100,2],int)\n",
    "def idontknow(count, nums):\n",
    "    i = 0\n",
    "    for i in range(62):\n",
    "        ans[i+2] = ans[i+1] + ans[i]\n",
    "        ans[i+2] = ans[i+2] % 10\n",
    "        if (ans[i+1] == ans[0] and ans[i+2] == ans[1]):\n",
    "            #shows every combination\n",
    "            #print(ans[0],ans[1])\n",
    "            nums[i,0] = ans[0]\n",
    "            nums[i,1] = ans[1]\n",
    "            ans[1] +=1\n",
    "            #shows the length of each combination\n",
    "            #print(i+1) \n",
    "            count[i] +=1\n",
    "            if (ans[1] == 10):\n",
    "                ans[1] = 0\n",
    "                ans[0] +=1\n",
    "                if (ans[0] == 10):\n",
    "                    return \n",
    "            idontknow(count, nums)\n",
    "idontknow(count, nums)\n",
    "for i in range(100):\n",
    "    if (count[i] == 0):\n",
    "        continue\n",
    "    else:\n",
    "        print('there are', count[i] , 'bracelets of length' , i+1, ', the consecutive numbers to make this are', nums[i,0], nums[i,1])"
   ]
  },
  {
   "cell_type": "code",
   "execution_count": 186,
   "id": "e2cff218-2ec1-42e7-9b21-99a8dbadaa1e",
   "metadata": {
    "tags": []
   },
   "outputs": [
    {
     "name": "stdout",
     "output_type": "stream",
     "text": [
      "7\n",
      "6\n",
      "3\n",
      "9\n",
      "2\n",
      "1\n",
      "3\n",
      "4\n",
      "7\n",
      "1\n",
      "8\n",
      "9\n",
      "the length of the bracelet is: 12\n"
     ]
    }
   ],
   "source": [
    "import random\n",
    "\n",
    "def randnums():\n",
    "    ans[0] = random.randint(0, 9)\n",
    "    ans[1] = random.randint(0, 9)\n",
    "    \n",
    "def length_finder(z):\n",
    "    if (count[z-1] == 0):\n",
    "        return print('there are no bracelets of length', z)\n",
    "    randnums()\n",
    "    for i in range(z+2):\n",
    "        ans[i+2] = ans[i+1] + ans[i]\n",
    "        ans[i+2] = ans[i+2] % 10\n",
    "        if (ans[i+1] == ans[0] and ans[i+2] == ans[1]):\n",
    "            if (i == z-1):\n",
    "                return twonumb(ans[0],ans[1])\n",
    "            else:\n",
    "                return length_finder(z)\n",
    "        elif (i == z+1):\n",
    "            length_finder(z)\n",
    "        else:\n",
    "            continue\n",
    "\n",
    "length_finder(12)"
   ]
  },
  {
   "cell_type": "code",
   "execution_count": null,
   "id": "5a73e4a1-1af3-4030-8c78-084cf61ad9d0",
   "metadata": {},
   "outputs": [],
   "source": []
  }
 ],
 "metadata": {
  "kernelspec": {
   "display_name": "Python 3 (ipykernel)",
   "language": "python",
   "name": "python3"
  },
  "language_info": {
   "codemirror_mode": {
    "name": "ipython",
    "version": 3
   },
   "file_extension": ".py",
   "mimetype": "text/x-python",
   "name": "python",
   "nbconvert_exporter": "python",
   "pygments_lexer": "ipython3",
   "version": "3.11.5"
  }
 },
 "nbformat": 4,
 "nbformat_minor": 5
}
