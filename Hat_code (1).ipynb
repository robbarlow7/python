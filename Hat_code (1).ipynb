{
 "cells": [
  {
   "cell_type": "code",
   "execution_count": 7,
   "id": "4763bb4b-c6a6-4859-9d75-ad94ca1fd4d7",
   "metadata": {
    "tags": []
   },
   "outputs": [],
   "source": [
    "import numpy as np\n",
    "import matplotlib.pyplot as plt\n",
    "import random\n",
    "import math"
   ]
  },
  {
   "cell_type": "code",
   "execution_count": 8,
   "id": "6813dd63-abdd-4d75-a8e1-7bc0aa4d4db7",
   "metadata": {
    "tags": []
   },
   "outputs": [
    {
     "name": "stdout",
     "output_type": "stream",
     "text": [
      "[1 2 3 4 5 6 7]\n",
      "[2 3 4 5 6 6]\n",
      "[4 5 6 6 1]\n",
      "[6 6 1 1]\n",
      "[6 1 5]\n",
      "[6 4]\n",
      "[2]\n",
      "the final number is 2\n"
     ]
    }
   ],
   "source": [
    "#code 1\n",
    "##shows how the game plays out\n",
    "n = 7\n",
    "cards = np.zeros([n], int)\n",
    "\n",
    "def arraymaker(size,array):\n",
    "    for i in range(size):\n",
    "        array[i] = int(i+1)\n",
    "\n",
    "arraymaker(n,cards)\n",
    "\n",
    "def singlemove(array):\n",
    "    print(array)\n",
    "    x0 = random.randint(0, array.size - 1)\n",
    "    x = array[x0]\n",
    "    array = np.delete(array,[x0])\n",
    "    y0 = random.randint(0, array.size - 1)\n",
    "    y = array[y0]\n",
    "    array = np.delete(array,[y0])\n",
    "    z = abs(x-y)\n",
    "    array = np.append(array, [z])\n",
    "    return array\n",
    "    \n",
    "def hatgame(size,array):\n",
    "    for i in range(size-1):\n",
    "        array = singlemove(array)\n",
    "    print(array)\n",
    "    print('the final number is', array[0])\n",
    "\n",
    "hatgame(n,cards)"
   ]
  },
  {
   "cell_type": "code",
   "execution_count": 9,
   "id": "3460b7e4-71c5-4a16-9e31-2c496dc222a6",
   "metadata": {
    "tags": []
   },
   "outputs": [
    {
     "data": {
      "image/png": "[encoded data removed]",
      "text/plain": [
       "<Figure size 640x480 with 1 Axes>"
      ]
     },
     "metadata": {},
     "output_type": "display_data"
    }
   ],
   "source": [
    "#code 2\n",
    "##shows the probability of x having a particular value\n",
    "n = 7\n",
    "cards = np.zeros([n], int)\n",
    "\n",
    "def arraymaker(size,array):\n",
    "    for i in range(size):\n",
    "        array[i] = int(i+1)\n",
    "\n",
    "arraymaker(n,cards)\n",
    "        \n",
    "def singlemove(array):\n",
    "    x0 = random.randint(0, array.size - 1)\n",
    "    x = array[x0]\n",
    "    array = np.delete(array,[x0])\n",
    "    y0 = random.randint(0, array.size - 1)\n",
    "    y = array[y0]\n",
    "    array = np.delete(array,[y0])\n",
    "    z = abs(x-y)\n",
    "    array = np.append(array, [z])\n",
    "    return array\n",
    "    \n",
    "def hatgame(size,array):\n",
    "    for i in range(size-1):\n",
    "        array = singlemove(array)\n",
    "    return array\n",
    "\n",
    "count = np.zeros([n+1], int)\n",
    "\n",
    "def counter(iterations):\n",
    "    for i in range(iterations):\n",
    "        arraymaker(n,cards)\n",
    "        count[hatgame(n,cards)] +=1\n",
    "    \n",
    "iterations = 100\n",
    "counter(iterations)\n",
    "probability = count/iterations\n",
    "nonzeros = []\n",
    "for i in range(count.size):\n",
    "    if count[i]!=0:\n",
    "        nonzeros.append(i)\n",
    "plt.xticks(nonzeros, nonzeros) \n",
    "plt.bar(np.arange(0,n+1), probability, width = 0.4, edgecolor = 'black')\n",
    "plt.xlabel('Value of x')\n",
    "plt.ylabel('Probability')\n",
    "plt.show()"
   ]
  },
  {
   "cell_type": "code",
   "execution_count": 10,
   "id": "691a852f-7d87-48c6-86f4-d94d18fc45b7",
   "metadata": {
    "tags": []
   },
   "outputs": [
    {
     "name": "stdout",
     "output_type": "stream",
     "text": [
      "0 100 , n = 1 , k = 0\n",
      "0 100 0 , n = 2 , k = 0\n",
      "68 0 32 0 , n = 3 , k = 1\n",
      "42 0 47 0 11 , n = 4 , k = 1\n",
      "0 67 0 31 0 2 , n = 5 , k = 2\n",
      "0 62 0 28 0 10 0 , n = 6 , k = 2\n",
      "27 0 34 0 24 0 15 0 , n = 7 , k = 3\n",
      "31 0 34 0 21 0 12 0 2 , n = 8 , k = 3\n",
      "0 51 0 28 0 13 0 6 0 2 , n = 9 , k = 4\n",
      "0 41 0 32 0 12 0 13 0 2 0 , n = 10 , k = 4\n",
      "20 0 41 0 20 0 12 0 5 0 2 0 , n = 11 , k = 5\n",
      "22 0 33 0 20 0 18 0 5 0 2 0 0 , n = 12 , k = 5\n",
      "0 33 0 35 0 17 0 6 0 7 0 2 0 0 , n = 13 , k = 6\n",
      "0 39 0 24 0 13 0 12 0 8 0 3 0 1 0 , n = 14 , k = 6\n",
      "12 0 33 0 19 0 14 0 11 0 9 0 1 0 1 0 , n = 15 , k = 7\n",
      "14 0 28 0 25 0 19 0 5 0 6 0 3 0 0 0 0 , n = 16 , k = 7\n",
      "0 34 0 16 0 19 0 9 0 7 0 5 0 4 0 6 0 0 , n = 17 , k = 8\n",
      "0 24 0 23 0 21 0 16 0 6 0 8 0 2 0 0 0 0 0 , n = 18 , k = 8\n",
      "15 0 31 0 16 0 14 0 10 0 5 0 5 0 3 0 0 0 1 0 , n = 19 , k = 9\n",
      "13 0 30 0 16 0 11 0 12 0 11 0 4 0 2 0 1 0 0 0 0 , n = 20 , k = 9\n"
     ]
    }
   ],
   "source": [
    "#code 3\n",
    "##check conjecture\n",
    "\n",
    "def arraymaker(size,array):\n",
    "    array = np.zeros([array.size], int)\n",
    "    for i in range(size):\n",
    "        array[i] = int(i+1)\n",
    "        \n",
    "def singlemove(array):\n",
    "    x0 = random.randint(0, array.size - 1)\n",
    "    x = array[x0]\n",
    "    array = np.delete(array,[x0])\n",
    "    y0 = random.randint(0, array.size - 1)\n",
    "    y = array[y0]\n",
    "    array = np.delete(array,[y0])\n",
    "    z = abs(x-y)\n",
    "    array = np.append(array, [z])\n",
    "    return array\n",
    "    \n",
    "def hatgame(size,array):\n",
    "    for i in range(size-1):\n",
    "        array = singlemove(array)\n",
    "    return array\n",
    "\n",
    "def counter(iterations, size, array):\n",
    "    count = np.zeros([size+1], int)\n",
    "    for i in range(iterations):\n",
    "        arraymaker(size,array)\n",
    "        count[hatgame(size,array)] +=1\n",
    "    #I had to add this line so it is obvious what is happening \n",
    "    result = ' '.join(str(number) for number in count)\n",
    "    print(result, ', n =', size, ', k =', math.floor((n-1)/2))\n",
    "\n",
    "for i in range(20):\n",
    "    n = i+1\n",
    "    cards = np.arange(1,n+1)\n",
    "    counter(100,n,cards)"
   ]
  },
  {
   "cell_type": "code",
   "execution_count": 13,
   "id": "cfa521a3-c0fc-4041-b401-dcb7d5175ba7",
   "metadata": {
    "tags": []
   },
   "outputs": [
    {
     "name": "stdout",
     "output_type": "stream",
     "text": [
      "[ 710    0 1226    0  938    0  694    0  535    0  367    0  257    0\n",
      "  162    0   78    0   29    0    4] number of iterations: 5000\n",
      "0.1420000000\n"
     ]
    }
   ],
   "source": [
    "#code 4\n",
    "\n",
    "n = 20\n",
    "cards = np.arange(1,n+1)\n",
    "def arraymaker(size,array):\n",
    "    array = np.zeros([array.size], int)\n",
    "    for i in range(size):\n",
    "        array[i] = int(i+1)\n",
    "        \n",
    "def singlemove(array):\n",
    "    x0 = random.randint(0, array.size - 1)\n",
    "    x = array[x0]\n",
    "    array = np.delete(array,[x0])\n",
    "    y0 = random.randint(0, array.size - 1)\n",
    "    y = array[y0]\n",
    "    array = np.delete(array,[y0])\n",
    "    z = abs(x-y)\n",
    "    array = np.append(array, [z])\n",
    "    return array\n",
    "    \n",
    "def hatgame(size,array):\n",
    "    for i in range(size-1):\n",
    "        array = singlemove(array)\n",
    "    return array\n",
    "\n",
    "count = np.zeros([n+1],int)\n",
    "\n",
    "def counter(iterations):\n",
    "    for i in range(iterations):\n",
    "        arraymaker(n,cards)\n",
    "        count[hatgame(n,cards)] +=1\n",
    "\n",
    "iterations = 5000\n",
    "counter(iterations)\n",
    "probability = count/np.sum(count)\n",
    "\n",
    "\n",
    "print(count,'number of iterations:' ,np.sum(count))\n",
    "print('%.10f' % probability[0])"
   ]
  },
  {
   "cell_type": "code",
   "execution_count": 14,
   "id": "275110f1-aad5-4b58-9722-5cd502b4852a",
   "metadata": {
    "tags": []
   },
   "outputs": [
    {
     "data": {
      "text/plain": [
       "array([4963,    0, 2485,    0, 2552])"
      ]
     },
     "execution_count": 14,
     "metadata": {},
     "output_type": "execute_result"
    }
   ],
   "source": [
    "#code 5 adjusted\n",
    "B = np.zeros([31], int)\n",
    "for i in range(10000):\n",
    "    x = int(0)\n",
    "    for j in range(5):\n",
    "        C = random.randint(0,1)\n",
    "        if C == 0:\n",
    "            x = int(x + j +1)\n",
    "        if C == 1:\n",
    "            x = int(x - j -1)\n",
    "        if (x >= 6):\n",
    "            x = x - 2*j - 2\n",
    "        if (int(x) < 0):\n",
    "            x = abs(x)\n",
    "    B[x+15] +=1\n",
    "B[16:21]\n"
   ]
  },
  {
   "cell_type": "code",
   "execution_count": null,
   "id": "4eff10b5-bfa7-4809-94a0-8b49ac6f9af3",
   "metadata": {},
   "outputs": [],
   "source": []
  }
 ],
 "metadata": {
  "kernelspec": {
   "display_name": "Python 3 (ipykernel)",
   "language": "python",
   "name": "python3"
  },
  "language_info": {
   "codemirror_mode": {
    "name": "ipython",
    "version": 3
   },
   "file_extension": ".py",
   "mimetype": "text/x-python",
   "name": "python",
   "nbconvert_exporter": "python",
   "pygments_lexer": "ipython3",
   "version": "3.11.5"
  }
 },
 "nbformat": 4,
 "nbformat_minor": 5
}
